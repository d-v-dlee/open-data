{
 "cells": [
  {
   "cell_type": "code",
   "execution_count": 1,
   "metadata": {},
   "outputs": [],
   "source": [
    "import json\n",
    "import os\n",
    "import sys\n",
    "from collections import Counter"
   ]
  },
  {
   "cell_type": "code",
   "execution_count": 2,
   "metadata": {},
   "outputs": [],
   "source": [
    "sys.path.insert(0, '../scripts')"
   ]
  },
  {
   "cell_type": "code",
   "execution_count": 3,
   "metadata": {},
   "outputs": [],
   "source": [
    "from json_processing import get_wc_jsons"
   ]
  },
  {
   "cell_type": "markdown",
   "metadata": {},
   "source": [
    "### 1) Get All WC JSONs"
   ]
  },
  {
   "cell_type": "code",
   "execution_count": 4,
   "metadata": {},
   "outputs": [],
   "source": [
    "data_path = '../data/events'\n",
    "wc_jsons = get_wc_jsons(data_path)"
   ]
  },
  {
   "cell_type": "code",
   "execution_count": 14,
   "metadata": {},
   "outputs": [
    {
     "data": {
      "text/plain": [
       "128"
      ]
     },
     "execution_count": 14,
     "metadata": {},
     "output_type": "execute_result"
    }
   ],
   "source": [
    "len(wc_jsons)"
   ]
  },
  {
   "cell_type": "code",
   "execution_count": 15,
   "metadata": {},
   "outputs": [
    {
     "data": {
      "text/plain": [
       "64"
      ]
     },
     "execution_count": 15,
     "metadata": {},
     "output_type": "execute_result"
    }
   ],
   "source": [
    "len(set(wc_jsons))"
   ]
  },
  {
   "cell_type": "markdown",
   "metadata": {},
   "source": [
    "### Move WC Jsons into own directory"
   ]
  },
  {
   "cell_type": "code",
   "execution_count": 20,
   "metadata": {},
   "outputs": [
    {
     "name": "stdout",
     "output_type": "stream",
     "text": [
      "../data/events/world_cup_events\\7525.json\n",
      "../data/events/world_cup_events\\7525.json\n",
      "../data/events/world_cup_events\\7529.json\n",
      "../data/events/world_cup_events\\7529.json\n",
      "../data/events/world_cup_events\\7530.json\n",
      "../data/events/world_cup_events\\7530.json\n",
      "../data/events/world_cup_events\\7531.json\n",
      "../data/events/world_cup_events\\7531.json\n",
      "../data/events/world_cup_events\\7532.json\n",
      "../data/events/world_cup_events\\7532.json\n",
      "../data/events/world_cup_events\\7533.json\n",
      "../data/events/world_cup_events\\7533.json\n",
      "../data/events/world_cup_events\\7534.json\n",
      "../data/events/world_cup_events\\7534.json\n",
      "../data/events/world_cup_events\\7535.json\n",
      "../data/events/world_cup_events\\7535.json\n",
      "../data/events/world_cup_events\\7536.json\n",
      "../data/events/world_cup_events\\7536.json\n",
      "../data/events/world_cup_events\\7537.json\n",
      "../data/events/world_cup_events\\7537.json\n",
      "../data/events/world_cup_events\\7538.json\n",
      "../data/events/world_cup_events\\7538.json\n",
      "../data/events/world_cup_events\\7539.json\n",
      "../data/events/world_cup_events\\7539.json\n",
      "../data/events/world_cup_events\\7540.json\n",
      "../data/events/world_cup_events\\7540.json\n",
      "../data/events/world_cup_events\\7541.json\n",
      "../data/events/world_cup_events\\7541.json\n",
      "../data/events/world_cup_events\\7542.json\n",
      "../data/events/world_cup_events\\7542.json\n",
      "../data/events/world_cup_events\\7543.json\n",
      "../data/events/world_cup_events\\7543.json\n",
      "../data/events/world_cup_events\\7544.json\n",
      "../data/events/world_cup_events\\7544.json\n",
      "../data/events/world_cup_events\\7545.json\n",
      "../data/events/world_cup_events\\7545.json\n",
      "../data/events/world_cup_events\\7546.json\n",
      "../data/events/world_cup_events\\7546.json\n",
      "../data/events/world_cup_events\\7547.json\n",
      "../data/events/world_cup_events\\7547.json\n",
      "../data/events/world_cup_events\\7548.json\n",
      "../data/events/world_cup_events\\7548.json\n",
      "../data/events/world_cup_events\\7549.json\n",
      "../data/events/world_cup_events\\7549.json\n",
      "../data/events/world_cup_events\\7550.json\n",
      "../data/events/world_cup_events\\7550.json\n",
      "../data/events/world_cup_events\\7551.json\n",
      "../data/events/world_cup_events\\7551.json\n",
      "../data/events/world_cup_events\\7552.json\n",
      "../data/events/world_cup_events\\7552.json\n",
      "../data/events/world_cup_events\\7553.json\n",
      "../data/events/world_cup_events\\7553.json\n",
      "../data/events/world_cup_events\\7554.json\n",
      "../data/events/world_cup_events\\7554.json\n",
      "../data/events/world_cup_events\\7555.json\n",
      "../data/events/world_cup_events\\7555.json\n",
      "../data/events/world_cup_events\\7556.json\n",
      "../data/events/world_cup_events\\7556.json\n",
      "../data/events/world_cup_events\\7557.json\n",
      "../data/events/world_cup_events\\7557.json\n",
      "../data/events/world_cup_events\\7558.json\n",
      "../data/events/world_cup_events\\7558.json\n",
      "../data/events/world_cup_events\\7559.json\n",
      "../data/events/world_cup_events\\7559.json\n",
      "../data/events/world_cup_events\\7560.json\n",
      "../data/events/world_cup_events\\7560.json\n",
      "../data/events/world_cup_events\\7561.json\n",
      "../data/events/world_cup_events\\7561.json\n",
      "../data/events/world_cup_events\\7562.json\n",
      "../data/events/world_cup_events\\7562.json\n",
      "../data/events/world_cup_events\\7563.json\n",
      "../data/events/world_cup_events\\7563.json\n",
      "../data/events/world_cup_events\\7564.json\n",
      "../data/events/world_cup_events\\7564.json\n",
      "../data/events/world_cup_events\\7565.json\n",
      "../data/events/world_cup_events\\7565.json\n",
      "../data/events/world_cup_events\\7566.json\n",
      "../data/events/world_cup_events\\7566.json\n",
      "../data/events/world_cup_events\\7567.json\n",
      "../data/events/world_cup_events\\7567.json\n",
      "../data/events/world_cup_events\\7568.json\n",
      "../data/events/world_cup_events\\7568.json\n",
      "../data/events/world_cup_events\\7569.json\n",
      "../data/events/world_cup_events\\7569.json\n",
      "../data/events/world_cup_events\\7570.json\n",
      "../data/events/world_cup_events\\7570.json\n",
      "../data/events/world_cup_events\\7571.json\n",
      "../data/events/world_cup_events\\7571.json\n",
      "../data/events/world_cup_events\\7572.json\n",
      "../data/events/world_cup_events\\7572.json\n",
      "../data/events/world_cup_events\\7576.json\n",
      "../data/events/world_cup_events\\7576.json\n",
      "../data/events/world_cup_events\\7577.json\n",
      "../data/events/world_cup_events\\7577.json\n",
      "../data/events/world_cup_events\\7578.json\n",
      "../data/events/world_cup_events\\7578.json\n",
      "../data/events/world_cup_events\\7579.json\n",
      "../data/events/world_cup_events\\7579.json\n",
      "../data/events/world_cup_events\\7580.json\n",
      "../data/events/world_cup_events\\7580.json\n",
      "../data/events/world_cup_events\\7581.json\n",
      "../data/events/world_cup_events\\7581.json\n",
      "../data/events/world_cup_events\\7582.json\n",
      "../data/events/world_cup_events\\7582.json\n",
      "../data/events/world_cup_events\\7583.json\n",
      "../data/events/world_cup_events\\7583.json\n",
      "../data/events/world_cup_events\\7584.json\n",
      "../data/events/world_cup_events\\7584.json\n",
      "../data/events/world_cup_events\\7585.json\n",
      "../data/events/world_cup_events\\7585.json\n",
      "../data/events/world_cup_events\\7586.json\n",
      "../data/events/world_cup_events\\7586.json\n",
      "../data/events/world_cup_events\\8649.json\n",
      "../data/events/world_cup_events\\8649.json\n",
      "../data/events/world_cup_events\\8650.json\n",
      "../data/events/world_cup_events\\8650.json\n",
      "../data/events/world_cup_events\\8651.json\n",
      "../data/events/world_cup_events\\8651.json\n",
      "../data/events/world_cup_events\\8652.json\n",
      "../data/events/world_cup_events\\8652.json\n",
      "../data/events/world_cup_events\\8655.json\n",
      "../data/events/world_cup_events\\8655.json\n",
      "../data/events/world_cup_events\\8656.json\n",
      "../data/events/world_cup_events\\8656.json\n",
      "../data/events/world_cup_events\\8657.json\n",
      "../data/events/world_cup_events\\8657.json\n",
      "../data/events/world_cup_events\\8658.json\n",
      "../data/events/world_cup_events\\8658.json\n"
     ]
    }
   ],
   "source": [
    "for j in wc_jsons:\n",
    "    print(outpath + os.sep + j)"
   ]
  },
  {
   "cell_type": "code",
   "execution_count": 17,
   "metadata": {},
   "outputs": [],
   "source": [
    "with open('../data/events/7525.json') as f:\n",
    "    test = json.load(f)"
   ]
  },
  {
   "cell_type": "code",
   "execution_count": 26,
   "metadata": {},
   "outputs": [
    {
     "name": "stdout",
     "output_type": "stream",
     "text": [
      "Old: C:\\Users\\DMLee\\projects\\projects_personal\\soccer_models\\open-data\\data\\events/7551.json\n",
      "New: C:\\Users\\DMLee\\projects\\projects_personal\\soccer_models\\open-data\\data\\world_cup_events/7551.json\n",
      "Old: C:\\Users\\DMLee\\projects\\projects_personal\\soccer_models\\open-data\\data\\events/7580.json\n",
      "New: C:\\Users\\DMLee\\projects\\projects_personal\\soccer_models\\open-data\\data\\world_cup_events/7580.json\n",
      "Old: C:\\Users\\DMLee\\projects\\projects_personal\\soccer_models\\open-data\\data\\events/7567.json\n",
      "New: C:\\Users\\DMLee\\projects\\projects_personal\\soccer_models\\open-data\\data\\world_cup_events/7567.json\n",
      "Old: C:\\Users\\DMLee\\projects\\projects_personal\\soccer_models\\open-data\\data\\events/7556.json\n",
      "New: C:\\Users\\DMLee\\projects\\projects_personal\\soccer_models\\open-data\\data\\world_cup_events/7556.json\n",
      "Old: C:\\Users\\DMLee\\projects\\projects_personal\\soccer_models\\open-data\\data\\events/7546.json\n",
      "New: C:\\Users\\DMLee\\projects\\projects_personal\\soccer_models\\open-data\\data\\world_cup_events/7546.json\n",
      "Old: C:\\Users\\DMLee\\projects\\projects_personal\\soccer_models\\open-data\\data\\events/7582.json\n",
      "New: C:\\Users\\DMLee\\projects\\projects_personal\\soccer_models\\open-data\\data\\world_cup_events/7582.json\n",
      "Old: C:\\Users\\DMLee\\projects\\projects_personal\\soccer_models\\open-data\\data\\events/7584.json\n",
      "New: C:\\Users\\DMLee\\projects\\projects_personal\\soccer_models\\open-data\\data\\world_cup_events/7584.json\n",
      "Old: C:\\Users\\DMLee\\projects\\projects_personal\\soccer_models\\open-data\\data\\events/8652.json\n",
      "New: C:\\Users\\DMLee\\projects\\projects_personal\\soccer_models\\open-data\\data\\world_cup_events/8652.json\n",
      "Old: C:\\Users\\DMLee\\projects\\projects_personal\\soccer_models\\open-data\\data\\events/7540.json\n",
      "New: C:\\Users\\DMLee\\projects\\projects_personal\\soccer_models\\open-data\\data\\world_cup_events/7540.json\n",
      "Old: C:\\Users\\DMLee\\projects\\projects_personal\\soccer_models\\open-data\\data\\events/7529.json\n",
      "New: C:\\Users\\DMLee\\projects\\projects_personal\\soccer_models\\open-data\\data\\world_cup_events/7529.json\n",
      "Old: C:\\Users\\DMLee\\projects\\projects_personal\\soccer_models\\open-data\\data\\events/7539.json\n",
      "New: C:\\Users\\DMLee\\projects\\projects_personal\\soccer_models\\open-data\\data\\world_cup_events/7539.json\n",
      "Old: C:\\Users\\DMLee\\projects\\projects_personal\\soccer_models\\open-data\\data\\events/8658.json\n",
      "New: C:\\Users\\DMLee\\projects\\projects_personal\\soccer_models\\open-data\\data\\world_cup_events/8658.json\n",
      "Old: C:\\Users\\DMLee\\projects\\projects_personal\\soccer_models\\open-data\\data\\events/7552.json\n",
      "New: C:\\Users\\DMLee\\projects\\projects_personal\\soccer_models\\open-data\\data\\world_cup_events/7552.json\n",
      "Old: C:\\Users\\DMLee\\projects\\projects_personal\\soccer_models\\open-data\\data\\events/7578.json\n",
      "New: C:\\Users\\DMLee\\projects\\projects_personal\\soccer_models\\open-data\\data\\world_cup_events/7578.json\n",
      "Old: C:\\Users\\DMLee\\projects\\projects_personal\\soccer_models\\open-data\\data\\events/8649.json\n",
      "New: C:\\Users\\DMLee\\projects\\projects_personal\\soccer_models\\open-data\\data\\world_cup_events/8649.json\n",
      "Old: C:\\Users\\DMLee\\projects\\projects_personal\\soccer_models\\open-data\\data\\events/7553.json\n",
      "New: C:\\Users\\DMLee\\projects\\projects_personal\\soccer_models\\open-data\\data\\world_cup_events/7553.json\n",
      "Old: C:\\Users\\DMLee\\projects\\projects_personal\\soccer_models\\open-data\\data\\events/7558.json\n",
      "New: C:\\Users\\DMLee\\projects\\projects_personal\\soccer_models\\open-data\\data\\world_cup_events/7558.json\n",
      "Old: C:\\Users\\DMLee\\projects\\projects_personal\\soccer_models\\open-data\\data\\events/7577.json\n",
      "New: C:\\Users\\DMLee\\projects\\projects_personal\\soccer_models\\open-data\\data\\world_cup_events/7577.json\n",
      "Old: C:\\Users\\DMLee\\projects\\projects_personal\\soccer_models\\open-data\\data\\events/7549.json\n",
      "New: C:\\Users\\DMLee\\projects\\projects_personal\\soccer_models\\open-data\\data\\world_cup_events/7549.json\n",
      "Old: C:\\Users\\DMLee\\projects\\projects_personal\\soccer_models\\open-data\\data\\events/7555.json\n",
      "New: C:\\Users\\DMLee\\projects\\projects_personal\\soccer_models\\open-data\\data\\world_cup_events/7555.json\n",
      "Old: C:\\Users\\DMLee\\projects\\projects_personal\\soccer_models\\open-data\\data\\events/7543.json\n",
      "New: C:\\Users\\DMLee\\projects\\projects_personal\\soccer_models\\open-data\\data\\world_cup_events/7543.json\n",
      "Old: C:\\Users\\DMLee\\projects\\projects_personal\\soccer_models\\open-data\\data\\events/7561.json\n",
      "New: C:\\Users\\DMLee\\projects\\projects_personal\\soccer_models\\open-data\\data\\world_cup_events/7561.json\n",
      "Old: C:\\Users\\DMLee\\projects\\projects_personal\\soccer_models\\open-data\\data\\events/7585.json\n",
      "New: C:\\Users\\DMLee\\projects\\projects_personal\\soccer_models\\open-data\\data\\world_cup_events/7585.json\n",
      "Old: C:\\Users\\DMLee\\projects\\projects_personal\\soccer_models\\open-data\\data\\events/8655.json\n",
      "New: C:\\Users\\DMLee\\projects\\projects_personal\\soccer_models\\open-data\\data\\world_cup_events/8655.json\n",
      "Old: C:\\Users\\DMLee\\projects\\projects_personal\\soccer_models\\open-data\\data\\events/7547.json\n",
      "New: C:\\Users\\DMLee\\projects\\projects_personal\\soccer_models\\open-data\\data\\world_cup_events/7547.json\n",
      "Old: C:\\Users\\DMLee\\projects\\projects_personal\\soccer_models\\open-data\\data\\events/7572.json\n",
      "New: C:\\Users\\DMLee\\projects\\projects_personal\\soccer_models\\open-data\\data\\world_cup_events/7572.json\n",
      "Old: C:\\Users\\DMLee\\projects\\projects_personal\\soccer_models\\open-data\\data\\events/7570.json\n",
      "New: C:\\Users\\DMLee\\projects\\projects_personal\\soccer_models\\open-data\\data\\world_cup_events/7570.json\n",
      "Old: C:\\Users\\DMLee\\projects\\projects_personal\\soccer_models\\open-data\\data\\events/7536.json\n",
      "New: C:\\Users\\DMLee\\projects\\projects_personal\\soccer_models\\open-data\\data\\world_cup_events/7536.json\n",
      "Old: C:\\Users\\DMLee\\projects\\projects_personal\\soccer_models\\open-data\\data\\events/7544.json\n",
      "New: C:\\Users\\DMLee\\projects\\projects_personal\\soccer_models\\open-data\\data\\world_cup_events/7544.json\n",
      "Old: C:\\Users\\DMLee\\projects\\projects_personal\\soccer_models\\open-data\\data\\events/7531.json\n",
      "New: C:\\Users\\DMLee\\projects\\projects_personal\\soccer_models\\open-data\\data\\world_cup_events/7531.json\n",
      "Old: C:\\Users\\DMLee\\projects\\projects_personal\\soccer_models\\open-data\\data\\events/7530.json\n",
      "New: C:\\Users\\DMLee\\projects\\projects_personal\\soccer_models\\open-data\\data\\world_cup_events/7530.json\n",
      "Old: C:\\Users\\DMLee\\projects\\projects_personal\\soccer_models\\open-data\\data\\events/7557.json\n",
      "New: C:\\Users\\DMLee\\projects\\projects_personal\\soccer_models\\open-data\\data\\world_cup_events/7557.json\n",
      "Old: C:\\Users\\DMLee\\projects\\projects_personal\\soccer_models\\open-data\\data\\events/7562.json\n",
      "New: C:\\Users\\DMLee\\projects\\projects_personal\\soccer_models\\open-data\\data\\world_cup_events/7562.json\n",
      "Old: C:\\Users\\DMLee\\projects\\projects_personal\\soccer_models\\open-data\\data\\events/7563.json\n",
      "New: C:\\Users\\DMLee\\projects\\projects_personal\\soccer_models\\open-data\\data\\world_cup_events/7563.json\n",
      "Old: C:\\Users\\DMLee\\projects\\projects_personal\\soccer_models\\open-data\\data\\events/8656.json\n",
      "New: C:\\Users\\DMLee\\projects\\projects_personal\\soccer_models\\open-data\\data\\world_cup_events/8656.json\n",
      "Old: C:\\Users\\DMLee\\projects\\projects_personal\\soccer_models\\open-data\\data\\events/8657.json\n",
      "New: C:\\Users\\DMLee\\projects\\projects_personal\\soccer_models\\open-data\\data\\world_cup_events/8657.json\n",
      "Old: C:\\Users\\DMLee\\projects\\projects_personal\\soccer_models\\open-data\\data\\events/7554.json\n",
      "New: C:\\Users\\DMLee\\projects\\projects_personal\\soccer_models\\open-data\\data\\world_cup_events/7554.json\n",
      "Old: C:\\Users\\DMLee\\projects\\projects_personal\\soccer_models\\open-data\\data\\events/7542.json\n",
      "New: C:\\Users\\DMLee\\projects\\projects_personal\\soccer_models\\open-data\\data\\world_cup_events/7542.json\n",
      "Old: C:\\Users\\DMLee\\projects\\projects_personal\\soccer_models\\open-data\\data\\events/7564.json\n",
      "New: C:\\Users\\DMLee\\projects\\projects_personal\\soccer_models\\open-data\\data\\world_cup_events/7564.json\n",
      "Old: C:\\Users\\DMLee\\projects\\projects_personal\\soccer_models\\open-data\\data\\events/7537.json\n",
      "New: C:\\Users\\DMLee\\projects\\projects_personal\\soccer_models\\open-data\\data\\world_cup_events/7537.json\n",
      "Old: C:\\Users\\DMLee\\projects\\projects_personal\\soccer_models\\open-data\\data\\events/7566.json\n",
      "New: C:\\Users\\DMLee\\projects\\projects_personal\\soccer_models\\open-data\\data\\world_cup_events/7566.json\n",
      "Old: C:\\Users\\DMLee\\projects\\projects_personal\\soccer_models\\open-data\\data\\events/7568.json\n",
      "New: C:\\Users\\DMLee\\projects\\projects_personal\\soccer_models\\open-data\\data\\world_cup_events/7568.json\n",
      "Old: C:\\Users\\DMLee\\projects\\projects_personal\\soccer_models\\open-data\\data\\events/7576.json\n",
      "New: C:\\Users\\DMLee\\projects\\projects_personal\\soccer_models\\open-data\\data\\world_cup_events/7576.json\n",
      "Old: C:\\Users\\DMLee\\projects\\projects_personal\\soccer_models\\open-data\\data\\events/7559.json\n",
      "New: C:\\Users\\DMLee\\projects\\projects_personal\\soccer_models\\open-data\\data\\world_cup_events/7559.json\n",
      "Old: C:\\Users\\DMLee\\projects\\projects_personal\\soccer_models\\open-data\\data\\events/7532.json\n",
      "New: C:\\Users\\DMLee\\projects\\projects_personal\\soccer_models\\open-data\\data\\world_cup_events/7532.json\n",
      "Old: C:\\Users\\DMLee\\projects\\projects_personal\\soccer_models\\open-data\\data\\events/7535.json\n",
      "New: C:\\Users\\DMLee\\projects\\projects_personal\\soccer_models\\open-data\\data\\world_cup_events/7535.json\n",
      "Old: C:\\Users\\DMLee\\projects\\projects_personal\\soccer_models\\open-data\\data\\events/7569.json\n",
      "New: C:\\Users\\DMLee\\projects\\projects_personal\\soccer_models\\open-data\\data\\world_cup_events/7569.json\n",
      "Old: C:\\Users\\DMLee\\projects\\projects_personal\\soccer_models\\open-data\\data\\events/7583.json\n",
      "New: C:\\Users\\DMLee\\projects\\projects_personal\\soccer_models\\open-data\\data\\world_cup_events/7583.json\n",
      "Old: C:\\Users\\DMLee\\projects\\projects_personal\\soccer_models\\open-data\\data\\events/7565.json\n",
      "New: C:\\Users\\DMLee\\projects\\projects_personal\\soccer_models\\open-data\\data\\world_cup_events/7565.json\n",
      "Old: C:\\Users\\DMLee\\projects\\projects_personal\\soccer_models\\open-data\\data\\events/7548.json\n",
      "New: C:\\Users\\DMLee\\projects\\projects_personal\\soccer_models\\open-data\\data\\world_cup_events/7548.json\n",
      "Old: C:\\Users\\DMLee\\projects\\projects_personal\\soccer_models\\open-data\\data\\events/7538.json\n",
      "New: C:\\Users\\DMLee\\projects\\projects_personal\\soccer_models\\open-data\\data\\world_cup_events/7538.json\n",
      "Old: C:\\Users\\DMLee\\projects\\projects_personal\\soccer_models\\open-data\\data\\events/7545.json\n",
      "New: C:\\Users\\DMLee\\projects\\projects_personal\\soccer_models\\open-data\\data\\world_cup_events/7545.json\n",
      "Old: C:\\Users\\DMLee\\projects\\projects_personal\\soccer_models\\open-data\\data\\events/8651.json\n",
      "New: C:\\Users\\DMLee\\projects\\projects_personal\\soccer_models\\open-data\\data\\world_cup_events/8651.json\n",
      "Old: C:\\Users\\DMLee\\projects\\projects_personal\\soccer_models\\open-data\\data\\events/7525.json\n",
      "New: C:\\Users\\DMLee\\projects\\projects_personal\\soccer_models\\open-data\\data\\world_cup_events/7525.json\n",
      "Old: C:\\Users\\DMLee\\projects\\projects_personal\\soccer_models\\open-data\\data\\events/7541.json\n",
      "New: C:\\Users\\DMLee\\projects\\projects_personal\\soccer_models\\open-data\\data\\world_cup_events/7541.json\n",
      "Old: C:\\Users\\DMLee\\projects\\projects_personal\\soccer_models\\open-data\\data\\events/7579.json\n",
      "New: C:\\Users\\DMLee\\projects\\projects_personal\\soccer_models\\open-data\\data\\world_cup_events/7579.json\n",
      "Old: C:\\Users\\DMLee\\projects\\projects_personal\\soccer_models\\open-data\\data\\events/7571.json\n",
      "New: C:\\Users\\DMLee\\projects\\projects_personal\\soccer_models\\open-data\\data\\world_cup_events/7571.json\n",
      "Old: C:\\Users\\DMLee\\projects\\projects_personal\\soccer_models\\open-data\\data\\events/8650.json\n",
      "New: C:\\Users\\DMLee\\projects\\projects_personal\\soccer_models\\open-data\\data\\world_cup_events/8650.json\n",
      "Old: C:\\Users\\DMLee\\projects\\projects_personal\\soccer_models\\open-data\\data\\events/7560.json\n",
      "New: C:\\Users\\DMLee\\projects\\projects_personal\\soccer_models\\open-data\\data\\world_cup_events/7560.json\n",
      "Old: C:\\Users\\DMLee\\projects\\projects_personal\\soccer_models\\open-data\\data\\events/7586.json\n",
      "New: C:\\Users\\DMLee\\projects\\projects_personal\\soccer_models\\open-data\\data\\world_cup_events/7586.json\n",
      "Old: C:\\Users\\DMLee\\projects\\projects_personal\\soccer_models\\open-data\\data\\events/7533.json\n",
      "New: C:\\Users\\DMLee\\projects\\projects_personal\\soccer_models\\open-data\\data\\world_cup_events/7533.json\n",
      "Old: C:\\Users\\DMLee\\projects\\projects_personal\\soccer_models\\open-data\\data\\events/7534.json\n",
      "New: C:\\Users\\DMLee\\projects\\projects_personal\\soccer_models\\open-data\\data\\world_cup_events/7534.json\n",
      "Old: C:\\Users\\DMLee\\projects\\projects_personal\\soccer_models\\open-data\\data\\events/7581.json\n",
      "New: C:\\Users\\DMLee\\projects\\projects_personal\\soccer_models\\open-data\\data\\world_cup_events/7581.json\n",
      "Old: C:\\Users\\DMLee\\projects\\projects_personal\\soccer_models\\open-data\\data\\events/7550.json\n",
      "New: C:\\Users\\DMLee\\projects\\projects_personal\\soccer_models\\open-data\\data\\world_cup_events/7550.json\n",
      "64 files moved.\n"
     ]
    }
   ],
   "source": [
    "# inpath = r'../data/events'\n",
    "# outpath = r'../data/events/world_cup_events'\n",
    "inpath = r'C:\\Users\\DMLee\\projects\\projects_personal\\soccer_models\\open-data\\data\\events'\n",
    "outpath = r'C:\\Users\\DMLee\\projects\\projects_personal\\soccer_models\\open-data\\data\\world_cup_events'\n",
    "for j in set(wc_jsons):\n",
    "    old = inpath + r'/' + j\n",
    "    new = outpath + r'/' + j\n",
    "    print(f'Old: {old}')\n",
    "    print(f'New: {new}')\n",
    "    os.rename(old, new)\n",
    "print(f'{len(set(wc_jsons))} files moved.')"
   ]
  },
  {
   "cell_type": "markdown",
   "metadata": {},
   "source": [
    "### 2) Basic EDA"
   ]
  },
  {
   "cell_type": "code",
   "execution_count": 6,
   "metadata": {},
   "outputs": [],
   "source": [
    "with open(data_path + os.sep + wc_jsons[0]) as f:\n",
    "    example_json = json.load(f)"
   ]
  },
  {
   "cell_type": "code",
   "execution_count": 7,
   "metadata": {},
   "outputs": [],
   "source": [
    "unique_events_counter = Counter()\n",
    "for event in example_json:\n",
    "    event_type = event['type']['name']\n",
    "    unique_events_counter[event_type] +=1"
   ]
  },
  {
   "cell_type": "code",
   "execution_count": 8,
   "metadata": {},
   "outputs": [
    {
     "data": {
      "text/plain": [
       "Counter({'Starting XI': 2,\n",
       "         'Half Start': 4,\n",
       "         'Pass': 960,\n",
       "         'Ball Receipt*': 868,\n",
       "         'Carry': 709,\n",
       "         'Duel': 69,\n",
       "         'Pressure': 268,\n",
       "         'Dispossessed': 32,\n",
       "         'Ball Recovery': 101,\n",
       "         'Interception': 11,\n",
       "         'Foul Committed': 35,\n",
       "         'Foul Won': 35,\n",
       "         'Camera On': 32,\n",
       "         'Dribble': 23,\n",
       "         'Clearance': 25,\n",
       "         'Miscontrol': 26,\n",
       "         'Block': 38,\n",
       "         'Dribbled Past': 13,\n",
       "         'Shot': 20,\n",
       "         'Goal Keeper': 22,\n",
       "         '50/50': 6,\n",
       "         'Injury Stoppage': 1,\n",
       "         'Camera off': 8,\n",
       "         'Substitution': 6,\n",
       "         'Tactical Shift': 2,\n",
       "         'Half End': 4})"
      ]
     },
     "execution_count": 8,
     "metadata": {},
     "output_type": "execute_result"
    }
   ],
   "source": [
    "unique_events_counter"
   ]
  },
  {
   "cell_type": "code",
   "execution_count": 9,
   "metadata": {},
   "outputs": [],
   "source": [
    "from event_cleaning import group_by_event"
   ]
  },
  {
   "cell_type": "code",
   "execution_count": 14,
   "metadata": {},
   "outputs": [],
   "source": [
    "shots = group_by_event(example_json, 'Shot')"
   ]
  },
  {
   "cell_type": "markdown",
   "metadata": {},
   "source": [
    "I want to know the coordinates of the field"
   ]
  },
  {
   "cell_type": "code",
   "execution_count": 27,
   "metadata": {},
   "outputs": [
    {
     "ename": "NameError",
     "evalue": "name 'shots' is not defined",
     "output_type": "error",
     "traceback": [
      "\u001b[1;31m---------------------------------------------------------------------------\u001b[0m",
      "\u001b[1;31mNameError\u001b[0m                                 Traceback (most recent call last)",
      "\u001b[1;32m<ipython-input-27-10fc9aa400e6>\u001b[0m in \u001b[0;36m<module>\u001b[1;34m\u001b[0m\n\u001b[1;32m----> 1\u001b[1;33m \u001b[0mshots\u001b[0m\u001b[1;33m\u001b[0m\u001b[1;33m\u001b[0m\u001b[0m\n\u001b[0m",
      "\u001b[1;31mNameError\u001b[0m: name 'shots' is not defined"
     ]
    }
   ],
   "source": []
  },
  {
   "cell_type": "code",
   "execution_count": null,
   "metadata": {},
   "outputs": [],
   "source": []
  }
 ],
 "metadata": {
  "kernelspec": {
   "display_name": "TensorFlow-GPU-1.13",
   "language": "python",
   "name": "tf-gpu"
  },
  "language_info": {
   "codemirror_mode": {
    "name": "ipython",
    "version": 3
   },
   "file_extension": ".py",
   "mimetype": "text/x-python",
   "name": "python",
   "nbconvert_exporter": "python",
   "pygments_lexer": "ipython3",
   "version": "3.7.4"
  }
 },
 "nbformat": 4,
 "nbformat_minor": 2
}
