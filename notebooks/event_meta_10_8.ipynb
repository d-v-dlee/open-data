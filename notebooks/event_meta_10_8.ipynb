{
 "cells": [
  {
   "cell_type": "code",
   "execution_count": 1,
   "metadata": {},
   "outputs": [],
   "source": [
    "import os\n",
    "import sys\n",
    "import json\n",
    "from collections import Counter"
   ]
  },
  {
   "cell_type": "code",
   "execution_count": 2,
   "metadata": {},
   "outputs": [],
   "source": [
    "sys.path.insert(0, '../scripts')"
   ]
  },
  {
   "cell_type": "code",
   "execution_count": 3,
   "metadata": {},
   "outputs": [
    {
     "name": "stdout",
     "output_type": "stream",
     "text": [
      "64\n"
     ]
    }
   ],
   "source": [
    "#### get all JSON files\n",
    "inpath = r'C:\\Users\\DMLee\\projects\\projects_personal\\soccer_models\\open-data\\data\\world_cup_events'\n",
    "\n",
    "json_names = []\n",
    "for r, d, f in os.walk(inpath):\n",
    "    for file in f:\n",
    "        json_names.append(file)\n",
    "\n",
    "# should be 64        \n",
    "print(len(json_names))"
   ]
  },
  {
   "cell_type": "markdown",
   "metadata": {},
   "source": [
    "### Now going to count every event from the 64 games + aggregate by event type"
   ]
  },
  {
   "cell_type": "code",
   "execution_count": 4,
   "metadata": {},
   "outputs": [],
   "source": [
    "from event_helpers import total_event_counter"
   ]
  },
  {
   "cell_type": "code",
   "execution_count": 5,
   "metadata": {},
   "outputs": [],
   "source": [
    "event_counter = Counter()"
   ]
  },
  {
   "cell_type": "code",
   "execution_count": 6,
   "metadata": {},
   "outputs": [],
   "source": [
    "final_counter = total_event_counter(json_names, event_counter, inpath)"
   ]
  },
  {
   "cell_type": "code",
   "execution_count": 7,
   "metadata": {},
   "outputs": [
    {
     "data": {
      "text/plain": [
       "Counter({'Starting XI': 128,\n",
       "         'Half Start': 284,\n",
       "         'Pass': 62872,\n",
       "         'Ball Receipt*': 58964,\n",
       "         'Carry': 50514,\n",
       "         'Duel': 3141,\n",
       "         'Pressure': 23463,\n",
       "         'Dispossessed': 1189,\n",
       "         'Ball Recovery': 5676,\n",
       "         'Interception': 1276,\n",
       "         'Foul Committed': 1876,\n",
       "         'Foul Won': 1789,\n",
       "         'Camera On': 1756,\n",
       "         'Dribble': 2109,\n",
       "         'Clearance': 2074,\n",
       "         'Miscontrol': 1535,\n",
       "         'Block': 2162,\n",
       "         'Dribbled Past': 1441,\n",
       "         'Shot': 1706,\n",
       "         'Goal Keeper': 1975,\n",
       "         '50/50': 108,\n",
       "         'Injury Stoppage': 291,\n",
       "         'Camera off': 393,\n",
       "         'Substitution': 382,\n",
       "         'Tactical Shift': 116,\n",
       "         'Half End': 284,\n",
       "         'Player Off': 63,\n",
       "         'Player On': 63,\n",
       "         'Own Goal For': 12,\n",
       "         'Own Goal Against': 12,\n",
       "         'Error': 37,\n",
       "         'Shield': 56,\n",
       "         'Offside': 26,\n",
       "         'Referee Ball-Drop': 57,\n",
       "         'Bad Behaviour': 40})"
      ]
     },
     "execution_count": 7,
     "metadata": {},
     "output_type": "execute_result"
    }
   ],
   "source": [
    "final_counter"
   ]
  },
  {
   "cell_type": "markdown",
   "metadata": {},
   "source": [
    "### Look at Shots...Then Passes"
   ]
  },
  {
   "cell_type": "code",
   "execution_count": null,
   "metadata": {},
   "outputs": [],
   "source": []
  },
  {
   "cell_type": "code",
   "execution_count": null,
   "metadata": {},
   "outputs": [],
   "source": []
  }
 ],
 "metadata": {
  "kernelspec": {
   "display_name": "Python 3",
   "language": "python",
   "name": "python3"
  },
  "language_info": {
   "codemirror_mode": {
    "name": "ipython",
    "version": 3
   },
   "file_extension": ".py",
   "mimetype": "text/x-python",
   "name": "python",
   "nbconvert_exporter": "python",
   "pygments_lexer": "ipython3",
   "version": "3.7.4"
  }
 },
 "nbformat": 4,
 "nbformat_minor": 2
}
