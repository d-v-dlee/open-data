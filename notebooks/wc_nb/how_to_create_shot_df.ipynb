{
 "cells": [
  {
   "cell_type": "code",
   "execution_count": 1,
   "metadata": {},
   "outputs": [],
   "source": [
    "import os\n",
    "import sys\n",
    "import json\n",
    "from collections import Counter\n",
    "import pandas as pd"
   ]
  },
  {
   "cell_type": "markdown",
   "metadata": {},
   "source": [
    "# This notebook shows how to create the `shots_df` dataframe"
   ]
  },
  {
   "cell_type": "code",
   "execution_count": 2,
   "metadata": {},
   "outputs": [],
   "source": [
    "# access scripts modules\n",
    "sys.path.insert(0, '../../scripts')"
   ]
  },
  {
   "cell_type": "markdown",
   "metadata": {},
   "source": [
    "### 1. Get All JSON names (64 Games in WC)"
   ]
  },
  {
   "cell_type": "code",
   "execution_count": 3,
   "metadata": {},
   "outputs": [
    {
     "name": "stdout",
     "output_type": "stream",
     "text": [
      "64\n"
     ]
    }
   ],
   "source": [
    "#### get all JSON files\n",
    "inpath = r'C:\\Users\\DMLee\\projects\\projects_personal\\soccer_models\\open-data\\data\\world_cup_events'\n",
    "\n",
    "json_names = []\n",
    "for r, d, f in os.walk(inpath):\n",
    "    for file in f:\n",
    "        json_names.append(file)\n",
    "\n",
    "# should be 64        \n",
    "print(len(json_names))"
   ]
  },
  {
   "cell_type": "markdown",
   "metadata": {},
   "source": [
    "### 2. Run script\n",
    "\n",
    "this will save a pickled df in your save path. We use a pickle becaues a csv will turn a list into a string."
   ]
  },
  {
   "cell_type": "code",
   "execution_count": 4,
   "metadata": {},
   "outputs": [
    {
     "name": "stdout",
     "output_type": "stream",
     "text": [
      "Total shots: 1706\n",
      "shot_location_start is list of floats: True\n"
     ]
    }
   ],
   "source": [
    "from event_helpers import create_shot_dataframe\n",
    "\n",
    "# absolute path to access files\n",
    "inpath = r'C:\\Users\\DMLee\\projects\\projects_personal\\soccer_models\\open-data\\data\\world_cup_events'\n",
    "# absolute path on where to save the dataframe\n",
    "savepath = r'C:\\Users\\DMLee\\projects\\projects_personal\\soccer_models\\open-data\\data\\world_cup_dfs'\n",
    "\n",
    "# create shot_df and save it in the savepath\n",
    "shots_df = create_shot_dataframe(json_names, inpath, savepath)"
   ]
  },
  {
   "cell_type": "code",
   "execution_count": 5,
   "metadata": {},
   "outputs": [
    {
     "data": {
      "text/html": [
       "<div>\n",
       "<style scoped>\n",
       "    .dataframe tbody tr th:only-of-type {\n",
       "        vertical-align: middle;\n",
       "    }\n",
       "\n",
       "    .dataframe tbody tr th {\n",
       "        vertical-align: top;\n",
       "    }\n",
       "\n",
       "    .dataframe thead th {\n",
       "        text-align: right;\n",
       "    }\n",
       "</style>\n",
       "<table border=\"1\" class=\"dataframe\">\n",
       "  <thead>\n",
       "    <tr style=\"text-align: right;\">\n",
       "      <th></th>\n",
       "      <th>outcome</th>\n",
       "      <th>body_part</th>\n",
       "      <th>technique</th>\n",
       "      <th>play_type</th>\n",
       "      <th>shot_location_start</th>\n",
       "      <th>player</th>\n",
       "      <th>statsbomb_xg</th>\n",
       "      <th>team</th>\n",
       "    </tr>\n",
       "  </thead>\n",
       "  <tbody>\n",
       "    <tr>\n",
       "      <td>0</td>\n",
       "      <td>Blocked</td>\n",
       "      <td>Right Foot</td>\n",
       "      <td>Normal</td>\n",
       "      <td>Open Play</td>\n",
       "      <td>[103.0, 21.0]</td>\n",
       "      <td>Yasir Gharsan Al Shahrani</td>\n",
       "      <td>0.020913</td>\n",
       "      <td>Saudi Arabia</td>\n",
       "    </tr>\n",
       "    <tr>\n",
       "      <td>1</td>\n",
       "      <td>Blocked</td>\n",
       "      <td>Right Foot</td>\n",
       "      <td>Normal</td>\n",
       "      <td>Open Play</td>\n",
       "      <td>[111.0, 52.0]</td>\n",
       "      <td>Aleksandr Samedov</td>\n",
       "      <td>0.039977</td>\n",
       "      <td>Russia</td>\n",
       "    </tr>\n",
       "    <tr>\n",
       "      <td>2</td>\n",
       "      <td>Blocked</td>\n",
       "      <td>Left Foot</td>\n",
       "      <td>Normal</td>\n",
       "      <td>Open Play</td>\n",
       "      <td>[107.0, 26.0]</td>\n",
       "      <td>Yuri Zhirkov</td>\n",
       "      <td>0.035123</td>\n",
       "      <td>Russia</td>\n",
       "    </tr>\n",
       "    <tr>\n",
       "      <td>3</td>\n",
       "      <td>Blocked</td>\n",
       "      <td>Right Foot</td>\n",
       "      <td>Normal</td>\n",
       "      <td>Open Play</td>\n",
       "      <td>[106.0, 49.0]</td>\n",
       "      <td>Alan Dzagoev</td>\n",
       "      <td>0.054171</td>\n",
       "      <td>Russia</td>\n",
       "    </tr>\n",
       "    <tr>\n",
       "      <td>4</td>\n",
       "      <td>Goal</td>\n",
       "      <td>Head</td>\n",
       "      <td>Normal</td>\n",
       "      <td>Open Play</td>\n",
       "      <td>[112.0, 47.0]</td>\n",
       "      <td>Yury Gazinskiy</td>\n",
       "      <td>0.162801</td>\n",
       "      <td>Russia</td>\n",
       "    </tr>\n",
       "  </tbody>\n",
       "</table>\n",
       "</div>"
      ],
      "text/plain": [
       "   outcome   body_part technique  play_type shot_location_start  \\\n",
       "0  Blocked  Right Foot    Normal  Open Play       [103.0, 21.0]   \n",
       "1  Blocked  Right Foot    Normal  Open Play       [111.0, 52.0]   \n",
       "2  Blocked   Left Foot    Normal  Open Play       [107.0, 26.0]   \n",
       "3  Blocked  Right Foot    Normal  Open Play       [106.0, 49.0]   \n",
       "4     Goal        Head    Normal  Open Play       [112.0, 47.0]   \n",
       "\n",
       "                      player  statsbomb_xg          team  \n",
       "0  Yasir Gharsan Al Shahrani      0.020913  Saudi Arabia  \n",
       "1          Aleksandr Samedov      0.039977        Russia  \n",
       "2               Yuri Zhirkov      0.035123        Russia  \n",
       "3               Alan Dzagoev      0.054171        Russia  \n",
       "4             Yury Gazinskiy      0.162801        Russia  "
      ]
     },
     "execution_count": 5,
     "metadata": {},
     "output_type": "execute_result"
    }
   ],
   "source": [
    "shots_df.head()"
   ]
  },
  {
   "cell_type": "code",
   "execution_count": null,
   "metadata": {},
   "outputs": [],
   "source": []
  }
 ],
 "metadata": {
  "kernelspec": {
   "display_name": "Python 3",
   "language": "python",
   "name": "python3"
  },
  "language_info": {
   "codemirror_mode": {
    "name": "ipython",
    "version": 3
   },
   "file_extension": ".py",
   "mimetype": "text/x-python",
   "name": "python",
   "nbconvert_exporter": "python",
   "pygments_lexer": "ipython3",
   "version": "3.7.4"
  }
 },
 "nbformat": 4,
 "nbformat_minor": 2
}
